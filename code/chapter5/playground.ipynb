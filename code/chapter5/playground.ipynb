{
 "cells": [
  {
   "cell_type": "code",
   "execution_count": 1,
   "id": "6135ebff",
   "metadata": {},
   "outputs": [
    {
     "name": "stderr",
     "output_type": "stream",
     "text": [
      "2023-03-08 16:54:50.886975: I tensorflow/core/platform/cpu_feature_guard.cc:193] This TensorFlow binary is optimized with oneAPI Deep Neural Network Library (oneDNN) to use the following CPU instructions in performance-critical operations:  AVX2 AVX512F AVX512_VNNI AVX512_BF16 AVX_VNNI FMA\n",
      "To enable them in other operations, rebuild TensorFlow with the appropriate compiler flags.\n",
      "2023-03-08 16:54:50.987182: I tensorflow/core/util/port.cc:104] oneDNN custom operations are on. You may see slightly different numerical results due to floating-point round-off errors from different computation orders. To turn them off, set the environment variable `TF_ENABLE_ONEDNN_OPTS=0`.\n",
      "2023-03-08 16:54:50.990538: W tensorflow/compiler/xla/stream_executor/platform/default/dso_loader.cc:64] Could not load dynamic library 'libcudart.so.11.0'; dlerror: libcudart.so.11.0: cannot open shared object file: No such file or directory\n",
      "2023-03-08 16:54:50.990550: I tensorflow/compiler/xla/stream_executor/cuda/cudart_stub.cc:29] Ignore above cudart dlerror if you do not have a GPU set up on your machine.\n",
      "2023-03-08 16:54:51.556074: W tensorflow/compiler/xla/stream_executor/platform/default/dso_loader.cc:64] Could not load dynamic library 'libnvinfer.so.7'; dlerror: libnvinfer.so.7: cannot open shared object file: No such file or directory\n",
      "2023-03-08 16:54:51.556129: W tensorflow/compiler/xla/stream_executor/platform/default/dso_loader.cc:64] Could not load dynamic library 'libnvinfer_plugin.so.7'; dlerror: libnvinfer_plugin.so.7: cannot open shared object file: No such file or directory\n",
      "2023-03-08 16:54:51.556134: W tensorflow/compiler/tf2tensorrt/utils/py_utils.cc:38] TF-TRT Warning: Cannot dlopen some TensorRT libraries. If you would like to use Nvidia GPU with TensorRT, please make sure the missing libraries mentioned above are installed properly.\n"
     ]
    },
    {
     "data": {
      "text/plain": [
       "Config: {'epochs': 2, 'compression': 'GZIP', 'global_batch_size': 8192, 'label': 'label', 'shuffle_buffer': 10, 'train_path': 'gs://mgaiduk-us-central1/ratings/csv_gzip/part*', 'validate_path': 'gs://mgaiduk-us-central1/ratings_validate/csv_gzip/part*', 'save_model_path': 'gs://mgaiduk-us-central1/models/model1', 'train_rows': 65536, 'trainval_rows': 8192, 'eval_rows': 65536, 'model': Model: {'learning_rate': 0.01, 'features': [Feature: {'hash': True, 'vocab_size': 25000000, 'embedding_dim': 16, 'name': 'userId', 'belongs_to': 'user'}, Feature: {'hash': True, 'vocab_size': 5000000, 'embedding_dim': 16, 'name': 'movieId', 'belongs_to': 'movie'}]}, 'dataset_features': [DatasetFeature: {'name': 'userId', 'type': 'string'}, DatasetFeature: {'name': 'movieId', 'type': 'string'}, DatasetFeature: {'name': 'label', 'type': 'int'}, DatasetFeature: {'name': 'timestamp', 'type': 'int'}], 'cycle_length': 8}"
      ]
     },
     "execution_count": 1,
     "metadata": {},
     "output_type": "execute_result"
    }
   ],
   "source": [
    "from config import Config\n",
    "from dataset import create_dataset\n",
    "from model import Model\n",
    "import tensorflow as tf\n",
    "\n",
    "config = Config(\"config.yaml\")\n",
    "config"
   ]
  },
  {
   "cell_type": "code",
   "execution_count": 2,
   "id": "04b67cae",
   "metadata": {},
   "outputs": [
    {
     "name": "stderr",
     "output_type": "stream",
     "text": [
      "2023-03-08 16:54:52.122642: W tensorflow/compiler/xla/stream_executor/platform/default/dso_loader.cc:64] Could not load dynamic library 'libcuda.so.1'; dlerror: libcuda.so.1: cannot open shared object file: No such file or directory\n",
      "2023-03-08 16:54:52.122666: W tensorflow/compiler/xla/stream_executor/cuda/cuda_driver.cc:265] failed call to cuInit: UNKNOWN ERROR (303)\n",
      "2023-03-08 16:54:52.122680: I tensorflow/compiler/xla/stream_executor/cuda/cuda_diagnostics.cc:156] kernel driver does not appear to be running on this host (mgaiduk-cpu-vm): /proc/driver/nvidia/version does not exist\n",
      "2023-03-08 16:54:52.122903: I tensorflow/core/platform/cpu_feature_guard.cc:193] This TensorFlow binary is optimized with oneAPI Deep Neural Network Library (oneDNN) to use the following CPU instructions in performance-critical operations:  AVX2 AVX512F AVX512_VNNI AVX512_BF16 AVX_VNNI FMA\n",
      "To enable them in other operations, rebuild TensorFlow with the appropriate compiler flags.\n"
     ]
    }
   ],
   "source": [
    "strategy = tf.distribute.get_strategy()\n",
    "train_dataset = create_dataset(config, strategy, config.train_path)"
   ]
  },
  {
   "cell_type": "code",
   "execution_count": 3,
   "id": "7c1c4472",
   "metadata": {},
   "outputs": [
    {
     "data": {
      "text/plain": [
       "({'userId': <tf.Tensor: shape=(8192,), dtype=int64, numpy=array([10348088, 15265920,  3085306, ...,  7197379,  5566271, 12232036])>,\n",
       "  'movieId': <tf.Tensor: shape=(8192,), dtype=int64, numpy=array([2963232, 2339632, 1657084, ..., 1070069,  825906,  726723])>},\n",
       " {'label': <tf.Tensor: shape=(8192,), dtype=int64, numpy=array([2, 2, 2, ..., 2, 2, 2])>})"
      ]
     },
     "execution_count": 3,
     "metadata": {},
     "output_type": "execute_result"
    }
   ],
   "source": [
    "for elem in train_dataset:\n",
    "    break\n",
    "elem"
   ]
  },
  {
   "cell_type": "code",
   "execution_count": 4,
   "id": "607ab740",
   "metadata": {},
   "outputs": [
    {
     "data": {
      "text/plain": [
       "{'label': <tf.Tensor: shape=(8192, 1), dtype=float32, numpy=\n",
       " array([[0.5796528 ],\n",
       "        [0.3376486 ],\n",
       "        [0.41295588],\n",
       "        ...,\n",
       "        [0.5490542 ],\n",
       "        [0.35019007],\n",
       "        [0.48135453]], dtype=float32)>}"
      ]
     },
     "execution_count": 4,
     "metadata": {},
     "output_type": "execute_result"
    }
   ],
   "source": [
    "with strategy.scope():\n",
    "    model = Model(config)\n",
    "    model.compile(model.optimizer, steps_per_execution=1)\n",
    "model(elem[0])"
   ]
  },
  {
   "cell_type": "code",
   "execution_count": 5,
   "id": "ebb855f3",
   "metadata": {},
   "outputs": [
    {
     "data": {
      "text/plain": [
       "<tf.Tensor: shape=(), dtype=float32, numpy=0.71205956>"
      ]
     },
     "execution_count": 5,
     "metadata": {},
     "output_type": "execute_result"
    }
   ],
   "source": [
    "model.compute_loss(elem)"
   ]
  },
  {
   "cell_type": "code",
   "execution_count": null,
   "id": "2cf715d8",
   "metadata": {},
   "outputs": [
    {
     "name": "stdout",
     "output_type": "stream",
     "text": [
      " 5/10 [==============>...............] - ETA: 6s - label-crossentropy: 0.6848 - auc: 0.0000e+00 - pr-auc: 1.0000 - accuracy: 0.0000e+00 - prediction_mean: 0.5040 - label_mean: 2.0000 - loss: 0.6848 - regularization_loss: 0.0000e+00 - total_loss: 0.6848"
     ]
    }
   ],
   "source": [
    "with strategy.scope():\n",
    "    model.fit(train_dataset, steps_per_epoch=10)"
   ]
  },
  {
   "cell_type": "code",
   "execution_count": null,
   "id": "092246a2",
   "metadata": {},
   "outputs": [],
   "source": [
    "model.compute_loss(elem)"
   ]
  }
 ],
 "metadata": {
  "kernelspec": {
   "display_name": "Python 3 (ipykernel)",
   "language": "python",
   "name": "python3"
  },
  "language_info": {
   "codemirror_mode": {
    "name": "ipython",
    "version": 3
   },
   "file_extension": ".py",
   "mimetype": "text/x-python",
   "name": "python",
   "nbconvert_exporter": "python",
   "pygments_lexer": "ipython3",
   "version": "3.9.2"
  }
 },
 "nbformat": 4,
 "nbformat_minor": 5
}
